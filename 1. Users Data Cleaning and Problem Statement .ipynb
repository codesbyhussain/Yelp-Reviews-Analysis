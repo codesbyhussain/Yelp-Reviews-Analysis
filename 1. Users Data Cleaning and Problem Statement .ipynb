{
 "cells": [
  {
   "cell_type": "code",
   "execution_count": 5,
   "id": "3fa3e520",
   "metadata": {},
   "outputs": [],
   "source": [
    "from pyspark.context import SparkContext\n",
    "from pyspark.sql.session import SparkSession\n",
    "from pyspark import SparkConf"
   ]
  },
  {
   "cell_type": "code",
   "execution_count": 6,
   "id": "228c0174",
   "metadata": {},
   "outputs": [],
   "source": [
    "from pyspark.ml.feature import Tokenizer, HashingTF, IDF \n",
    "from pyspark.ml.classification import LogisticRegression\n",
    "from pyspark.ml import Pipeline\n",
    "from pyspark.sql.functions import col"
   ]
  },
  {
   "cell_type": "code",
   "execution_count": 7,
   "id": "3e8c6a4b",
   "metadata": {},
   "outputs": [
    {
     "name": "stderr",
     "output_type": "stream",
     "text": [
      "Setting default log level to \"WARN\".\n",
      "To adjust logging level use sc.setLogLevel(newLevel). For SparkR, use setLogLevel(newLevel).\n",
      "24/04/21 11:11:29 WARN NativeCodeLoader: Unable to load native-hadoop library for your platform... using builtin-java classes where applicable\n",
      "24/04/21 11:11:30 WARN Utils: Service 'SparkUI' could not bind on port 4040. Attempting port 4041.\n"
     ]
    }
   ],
   "source": [
    "conf = SparkConf().setMaster(\"local[*]\").set(\"spark.executer.memory\", \"2g\")\n",
    "\n",
    "sc = SparkContext(conf=conf)\n",
    "spark = SparkSession(sc).builder.getOrCreate()\n",
    "spark.sparkContext.setLogLevel(\"ERROR\")"
   ]
  },
  {
   "cell_type": "markdown",
   "id": "4d5a011b-0ce0-4191-8c7c-20c44689b66b",
   "metadata": {},
   "source": [
    "### Problem Statement:\n",
    "The main objective of this project is to perform a comparative analysis between elite and\n",
    " non-elite users based on their interactions and reviews on our platform. This study aims to\n",
    " uncover patterns in behavior, preferences, and sentiment, providing insights that can help tailor\n",
    " services and engagement strategies more effectively."
   ]
  },
  {
   "cell_type": "markdown",
   "id": "767cc3b3-8acc-4c19-a1bb-0c6f9332c36e",
   "metadata": {},
   "source": [
    "### Loading Users Data"
   ]
  },
  {
   "cell_type": "code",
   "execution_count": 8,
   "id": "328d99a7",
   "metadata": {},
   "outputs": [
    {
     "name": "stdout",
     "output_type": "stream",
     "text": [
      "root\n",
      " |-- user_id: string (nullable = true)\n",
      " |-- name: string (nullable = true)\n",
      " |-- review_count: string (nullable = true)\n",
      " |-- yelping_since: string (nullable = true)\n",
      " |-- friends: string (nullable = true)\n",
      " |-- useful: string (nullable = true)\n",
      " |-- funny: string (nullable = true)\n",
      " |-- cool: string (nullable = true)\n",
      " |-- fans: string (nullable = true)\n",
      " |-- elite: string (nullable = true)\n",
      " |-- average_stars: string (nullable = true)\n",
      " |-- compliment_hot: string (nullable = true)\n",
      " |-- compliment_more: string (nullable = true)\n",
      " |-- compliment_profile: string (nullable = true)\n",
      " |-- compliment_cute: string (nullable = true)\n",
      " |-- compliment_list: string (nullable = true)\n",
      " |-- compliment_note: string (nullable = true)\n",
      " |-- compliment_plain: string (nullable = true)\n",
      " |-- compliment_cool: string (nullable = true)\n",
      " |-- compliment_funny: string (nullable = true)\n",
      " |-- compliment_writer: string (nullable = true)\n",
      " |-- compliment_photos: string (nullable = true)\n",
      "\n",
      "+--------------------+-----+------------+-------------+--------------------+------+-----+----+----+-----+-------------+--------------+---------------+------------------+---------------+---------------+---------------+----------------+---------------+----------------+-----------------+-----------------+\n",
      "|             user_id| name|review_count|yelping_since|             friends|useful|funny|cool|fans|elite|average_stars|compliment_hot|compliment_more|compliment_profile|compliment_cute|compliment_list|compliment_note|compliment_plain|compliment_cool|compliment_funny|compliment_writer|compliment_photos|\n",
      "+--------------------+-----+------------+-------------+--------------------+------+-----+----+----+-----+-------------+--------------+---------------+------------------+---------------+---------------+---------------+----------------+---------------+----------------+-----------------+-----------------+\n",
      "|JJ-aSuM4pCFPdkfoZ...|Chris|          10|   2013-09-24|0njfJmB-7n84DlIgU...|     0|    0|   0|   0| None|          3.7|             0|              0|                 0|              0|              0|              0|               0|              0|               0|                0|                0|\n",
      "+--------------------+-----+------------+-------------+--------------------+------+-----+----+----+-----+-------------+--------------+---------------+------------------+---------------+---------------+---------------+----------------+---------------+----------------+-----------------+-----------------+\n",
      "only showing top 1 row\n",
      "\n"
     ]
    }
   ],
   "source": [
    "df = spark.read.format(\"csv\").option(\"header\", \"true\").option(\"multiline\",\"true\").load(\"yelp-dataset-001/yelp_user.csv\")\n",
    "df.printSchema()\n",
    "df.show(1)\n"
   ]
  },
  {
   "cell_type": "markdown",
   "id": "9ec377d9",
   "metadata": {},
   "source": [
    "#### Number of Elite users for Each year"
   ]
  },
  {
   "cell_type": "code",
   "execution_count": 14,
   "id": "f4cac750",
   "metadata": {},
   "outputs": [
    {
     "name": "stderr",
     "output_type": "stream",
     "text": [
      "[Stage 3:>                                                          (0 + 1) / 1]\r"
     ]
    },
    {
     "name": "stdout",
     "output_type": "stream",
     "text": [
      "+--------------------+\n",
      "|               elite|\n",
      "+--------------------+\n",
      "|2015, 2014, 2013,...|\n",
      "|2013, 2014, 2009,...|\n",
      "|2012, 2009, 2015,...|\n",
      "|2016, 2015, 2017,...|\n",
      "|2013, 2017, 2014,...|\n",
      "|2009, 2007, 2008,...|\n",
      "|2015, 2016, 2010,...|\n",
      "|2009, 2012, 2013,...|\n",
      "|2011, 2008, 2009,...|\n",
      "|          2017, 2010|\n",
      "|2012, 2008, 2009,...|\n",
      "|2016, 2015, 2012,...|\n",
      "|2010, 2015, 2008,...|\n",
      "|2013, 2015, 2011,...|\n",
      "|2009, 2011, 2008,...|\n",
      "|2012, 2017, 2013,...|\n",
      "|2012, 2010, 2011,...|\n",
      "|2013, 2010, 2011,...|\n",
      "|2014, 2009, 2010,...|\n",
      "|2011, 2017, 2010,...|\n",
      "+--------------------+\n",
      "only showing top 20 rows\n",
      "\n"
     ]
    },
    {
     "name": "stderr",
     "output_type": "stream",
     "text": [
      "                                                                                \r"
     ]
    }
   ],
   "source": [
    "# Find unique values of the \"elite\" column\n",
    "unique_elite_values = df.select(\"elite\").distinct()\n",
    "\n",
    "# Show the unique values\n",
    "unique_elite_values.show()\n"
   ]
  },
  {
   "cell_type": "code",
   "execution_count": 19,
   "id": "2717454e",
   "metadata": {},
   "outputs": [
    {
     "name": "stderr",
     "output_type": "stream",
     "text": [
      "[Stage 26:>                                                         (0 + 1) / 1]\r"
     ]
    },
    {
     "name": "stdout",
     "output_type": "stream",
     "text": [
      "+----------+-------+\n",
      "|elite_year|  count|\n",
      "+----------+-------+\n",
      "|      2005|    140|\n",
      "|      2006|    887|\n",
      "|      2007|   2363|\n",
      "|      2008|   3621|\n",
      "|      2009|   6536|\n",
      "|      2010|  10485|\n",
      "|      2011|  13185|\n",
      "|      2012|  17777|\n",
      "|      2013|  19841|\n",
      "|      2014|  20488|\n",
      "|      2015|  26018|\n",
      "|      2016|  30856|\n",
      "|      2017|  34928|\n",
      "|      None|1265282|\n",
      "+----------+-------+\n",
      "\n"
     ]
    },
    {
     "name": "stderr",
     "output_type": "stream",
     "text": [
      "                                                                                \r"
     ]
    }
   ],
   "source": [
    "from pyspark.sql.functions import explode, split, col\n",
    "\n",
    "# Split the values in the 'elite' column and explode them into separate rows\n",
    "df2 = df.withColumn(\"elite_years\", split(col(\"elite\"), \",\\s*\")).select(\"user_id\", explode(\"elite_years\").alias(\"elite_year\"))\n",
    "\n",
    "# Group by 'elite_year' and count the occurrences\n",
    "elite_users_by_year = df2.groupBy(\"elite_year\").count().orderBy(\"elite_year\")\n",
    "\n",
    "# Show the results\n",
    "elite_users_by_year.show()"
   ]
  },
  {
   "cell_type": "markdown",
   "id": "adfa3d3e",
   "metadata": {},
   "source": [
    "### Defining Prblem Statement"
   ]
  },
  {
   "cell_type": "code",
   "execution_count": 16,
   "id": "8c6b7f20",
   "metadata": {},
   "outputs": [
    {
     "name": "stdout",
     "output_type": "stream",
     "text": [
      "+--------------------+-----+------------+-------------+--------------------+------+-----+----+----+-----+-------------+--------------+---------------+------------------+---------------+---------------+---------------+----------------+---------------+----------------+-----------------+-----------------+----------+\n",
      "|             user_id| name|review_count|yelping_since|             friends|useful|funny|cool|fans|elite|average_stars|compliment_hot|compliment_more|compliment_profile|compliment_cute|compliment_list|compliment_note|compliment_plain|compliment_cool|compliment_funny|compliment_writer|compliment_photos|elite_flag|\n",
      "+--------------------+-----+------------+-------------+--------------------+------+-----+----+----+-----+-------------+--------------+---------------+------------------+---------------+---------------+---------------+----------------+---------------+----------------+-----------------+-----------------+----------+\n",
      "|JJ-aSuM4pCFPdkfoZ...|Chris|          10|   2013-09-24|0njfJmB-7n84DlIgU...|     0|    0|   0|   0| None|          3.7|             0|              0|                 0|              0|              0|              0|               0|              0|               0|                0|                0|         0|\n",
      "+--------------------+-----+------------+-------------+--------------------+------+-----+----+----+-----+-------------+--------------+---------------+------------------+---------------+---------------+---------------+----------------+---------------+----------------+-----------------+-----------------+----------+\n",
      "only showing top 1 row\n",
      "\n"
     ]
    }
   ],
   "source": [
    "from pyspark.sql.functions import when, col\n",
    "\n",
    "# Add a new column 'elite_flag' with value 1 if 'elite' column is not \"None\", otherwise 0\n",
    "df = df.withColumn(\"elite_flag\", when(col(\"elite\") == \"None\", 0).otherwise(1))\n",
    "\n",
    "# Show the DataFrame with the new column\n",
    "df.show(1)\n"
   ]
  },
  {
   "cell_type": "code",
   "execution_count": 17,
   "id": "91da1f0f",
   "metadata": {},
   "outputs": [
    {
     "name": "stderr",
     "output_type": "stream",
     "text": [
      "[Stage 8:>                                                          (0 + 1) / 1]\r"
     ]
    },
    {
     "name": "stdout",
     "output_type": "stream",
     "text": [
      "+----------+-------+\n",
      "|elite_flag|  count|\n",
      "+----------+-------+\n",
      "|         1|  60818|\n",
      "|         0|1265282|\n",
      "+----------+-------+\n",
      "\n"
     ]
    },
    {
     "name": "stderr",
     "output_type": "stream",
     "text": [
      "                                                                                \r"
     ]
    }
   ],
   "source": [
    "from pyspark.sql.functions import col\n",
    "\n",
    "# Count the occurrences of each value in the \"elite_flag\" column\n",
    "elite_flag_counts = df.groupBy(\"elite_flag\").count()\n",
    "\n",
    "# Show the counts\n",
    "elite_flag_counts.show()\n"
   ]
  },
  {
   "cell_type": "markdown",
   "id": "ea9a88de-4652-4f15-b3df-baa05b4431ec",
   "metadata": {},
   "source": [
    "### Distribution of Elite vs Non - Elite Users"
   ]
  },
  {
   "cell_type": "code",
   "execution_count": 18,
   "id": "83d3f6e1",
   "metadata": {},
   "outputs": [
    {
     "name": "stderr",
     "output_type": "stream",
     "text": [
      "                                                                                \r"
     ]
    },
    {
     "data": {
      "image/png": "[encoded data removed]",
      "text/plain": [
       "<Figure size 800x600 with 1 Axes>"
      ]
     },
     "metadata": {},
     "output_type": "display_data"
    }
   ],
   "source": [
    "import matplotlib.pyplot as plt\n",
    "\n",
    "# Calculate the total count\n",
    "total_count = df.count()\n",
    "\n",
    "# Calculate the percentages\n",
    "elite_flag_counts = df.groupBy(\"elite_flag\").count()\n",
    "elite_flag_counts = elite_flag_counts.withColumn(\"percentage\", (col(\"count\") / total_count) * 100)\n",
    "\n",
    "# Convert the DataFrame to Pandas for plotting\n",
    "elite_flag_counts_pd = elite_flag_counts.toPandas()\n",
    "\n",
    "# Plot the pie chart\n",
    "labels = ['Elite', 'Non-Elite']\n",
    "plt.figure(figsize=(8, 6))\n",
    "plt.pie(elite_flag_counts_pd['percentage'], labels=labels, autopct='%1.1f%%', startangle=140)\n",
    "plt.axis('equal')  # Equal aspect ratio ensures that pie is drawn as a circle.\n",
    "plt.title('Percentage of Elite vs Non-Elite Users')\n",
    "plt.show()\n"
   ]
  }
 ],
 "metadata": {
  "kernelspec": {
   "display_name": "Python 3 (ipykernel)",
   "language": "python",
   "name": "python3"
  },
  "language_info": {
   "codemirror_mode": {
    "name": "ipython",
    "version": 3
   },
   "file_extension": ".py",
   "mimetype": "text/x-python",
   "name": "python",
   "nbconvert_exporter": "python",
   "pygments_lexer": "ipython3",
   "version": "3.11.4"
  }
 },
 "nbformat": 4,
 "nbformat_minor": 5
}
